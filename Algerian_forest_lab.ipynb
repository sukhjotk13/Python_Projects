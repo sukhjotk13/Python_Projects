{
 "cells": [
  {
   "cell_type": "markdown",
   "id": "1aa0960a",
   "metadata": {},
   "source": [
    "<font size=\"6\">Sukhjot Kaur (C0909734)</font>"
   ]
  },
  {
   "cell_type": "code",
   "execution_count": 1,
   "id": "566a3baa",
   "metadata": {},
   "outputs": [],
   "source": [
    "import pandas as pd\n",
    "import numpy as np\n",
    "import seaborn as sns\n",
    "import matplotlib.pyplot as plt\n",
    "import warnings\n",
    "warnings.filterwarnings('ignore')"
   ]
  },
  {
   "cell_type": "code",
   "execution_count": 2,
   "id": "e3a56966",
   "metadata": {},
   "outputs": [],
   "source": [
    "df=pd.read_csv(r\"C:\\Users\\acer\\Downloads\\Algerian_forest_fires_cleaned (1).csv\")"
   ]
  },
  {
   "cell_type": "code",
   "execution_count": 3,
   "id": "b9ea55ee",
   "metadata": {},
   "outputs": [
    {
     "data": {
      "text/html": [
       "<div>\n",
       "<style scoped>\n",
       "    .dataframe tbody tr th:only-of-type {\n",
       "        vertical-align: middle;\n",
       "    }\n",
       "\n",
       "    .dataframe tbody tr th {\n",
       "        vertical-align: top;\n",
       "    }\n",
       "\n",
       "    .dataframe thead th {\n",
       "        text-align: right;\n",
       "    }\n",
       "</style>\n",
       "<table border=\"1\" class=\"dataframe\">\n",
       "  <thead>\n",
       "    <tr style=\"text-align: right;\">\n",
       "      <th></th>\n",
       "      <th>day</th>\n",
       "      <th>month</th>\n",
       "      <th>year</th>\n",
       "      <th>Temperature</th>\n",
       "      <th>RH</th>\n",
       "      <th>Ws</th>\n",
       "      <th>Rain</th>\n",
       "      <th>FFMC</th>\n",
       "      <th>DMC</th>\n",
       "      <th>DC</th>\n",
       "      <th>ISI</th>\n",
       "      <th>BUI</th>\n",
       "      <th>FWI</th>\n",
       "      <th>Classes</th>\n",
       "      <th>Region</th>\n",
       "    </tr>\n",
       "  </thead>\n",
       "  <tbody>\n",
       "    <tr>\n",
       "      <th>0</th>\n",
       "      <td>1</td>\n",
       "      <td>6</td>\n",
       "      <td>2012</td>\n",
       "      <td>29</td>\n",
       "      <td>57</td>\n",
       "      <td>18</td>\n",
       "      <td>0.0</td>\n",
       "      <td>65.7</td>\n",
       "      <td>3.4</td>\n",
       "      <td>7.6</td>\n",
       "      <td>1.3</td>\n",
       "      <td>3.4</td>\n",
       "      <td>0.5</td>\n",
       "      <td>not fire</td>\n",
       "      <td>0</td>\n",
       "    </tr>\n",
       "    <tr>\n",
       "      <th>1</th>\n",
       "      <td>2</td>\n",
       "      <td>6</td>\n",
       "      <td>2012</td>\n",
       "      <td>29</td>\n",
       "      <td>61</td>\n",
       "      <td>13</td>\n",
       "      <td>1.3</td>\n",
       "      <td>64.4</td>\n",
       "      <td>4.1</td>\n",
       "      <td>7.6</td>\n",
       "      <td>1.0</td>\n",
       "      <td>3.9</td>\n",
       "      <td>0.4</td>\n",
       "      <td>not fire</td>\n",
       "      <td>0</td>\n",
       "    </tr>\n",
       "    <tr>\n",
       "      <th>2</th>\n",
       "      <td>3</td>\n",
       "      <td>6</td>\n",
       "      <td>2012</td>\n",
       "      <td>26</td>\n",
       "      <td>82</td>\n",
       "      <td>22</td>\n",
       "      <td>13.1</td>\n",
       "      <td>47.1</td>\n",
       "      <td>2.5</td>\n",
       "      <td>7.1</td>\n",
       "      <td>0.3</td>\n",
       "      <td>2.7</td>\n",
       "      <td>0.1</td>\n",
       "      <td>not fire</td>\n",
       "      <td>0</td>\n",
       "    </tr>\n",
       "    <tr>\n",
       "      <th>3</th>\n",
       "      <td>4</td>\n",
       "      <td>6</td>\n",
       "      <td>2012</td>\n",
       "      <td>25</td>\n",
       "      <td>89</td>\n",
       "      <td>13</td>\n",
       "      <td>2.5</td>\n",
       "      <td>28.6</td>\n",
       "      <td>1.3</td>\n",
       "      <td>6.9</td>\n",
       "      <td>0.0</td>\n",
       "      <td>1.7</td>\n",
       "      <td>0.0</td>\n",
       "      <td>not fire</td>\n",
       "      <td>0</td>\n",
       "    </tr>\n",
       "    <tr>\n",
       "      <th>4</th>\n",
       "      <td>5</td>\n",
       "      <td>6</td>\n",
       "      <td>2012</td>\n",
       "      <td>27</td>\n",
       "      <td>77</td>\n",
       "      <td>16</td>\n",
       "      <td>0.0</td>\n",
       "      <td>64.8</td>\n",
       "      <td>3.0</td>\n",
       "      <td>14.2</td>\n",
       "      <td>1.2</td>\n",
       "      <td>3.9</td>\n",
       "      <td>0.5</td>\n",
       "      <td>not fire</td>\n",
       "      <td>0</td>\n",
       "    </tr>\n",
       "    <tr>\n",
       "      <th>...</th>\n",
       "      <td>...</td>\n",
       "      <td>...</td>\n",
       "      <td>...</td>\n",
       "      <td>...</td>\n",
       "      <td>...</td>\n",
       "      <td>...</td>\n",
       "      <td>...</td>\n",
       "      <td>...</td>\n",
       "      <td>...</td>\n",
       "      <td>...</td>\n",
       "      <td>...</td>\n",
       "      <td>...</td>\n",
       "      <td>...</td>\n",
       "      <td>...</td>\n",
       "      <td>...</td>\n",
       "    </tr>\n",
       "    <tr>\n",
       "      <th>238</th>\n",
       "      <td>26</td>\n",
       "      <td>9</td>\n",
       "      <td>2012</td>\n",
       "      <td>30</td>\n",
       "      <td>65</td>\n",
       "      <td>14</td>\n",
       "      <td>0.0</td>\n",
       "      <td>85.4</td>\n",
       "      <td>16.0</td>\n",
       "      <td>44.5</td>\n",
       "      <td>4.5</td>\n",
       "      <td>16.9</td>\n",
       "      <td>6.5</td>\n",
       "      <td>fire</td>\n",
       "      <td>1</td>\n",
       "    </tr>\n",
       "    <tr>\n",
       "      <th>239</th>\n",
       "      <td>27</td>\n",
       "      <td>9</td>\n",
       "      <td>2012</td>\n",
       "      <td>28</td>\n",
       "      <td>87</td>\n",
       "      <td>15</td>\n",
       "      <td>4.4</td>\n",
       "      <td>41.1</td>\n",
       "      <td>6.5</td>\n",
       "      <td>8.0</td>\n",
       "      <td>0.1</td>\n",
       "      <td>6.2</td>\n",
       "      <td>0.0</td>\n",
       "      <td>not fire</td>\n",
       "      <td>1</td>\n",
       "    </tr>\n",
       "    <tr>\n",
       "      <th>240</th>\n",
       "      <td>28</td>\n",
       "      <td>9</td>\n",
       "      <td>2012</td>\n",
       "      <td>27</td>\n",
       "      <td>87</td>\n",
       "      <td>29</td>\n",
       "      <td>0.5</td>\n",
       "      <td>45.9</td>\n",
       "      <td>3.5</td>\n",
       "      <td>7.9</td>\n",
       "      <td>0.4</td>\n",
       "      <td>3.4</td>\n",
       "      <td>0.2</td>\n",
       "      <td>not fire</td>\n",
       "      <td>1</td>\n",
       "    </tr>\n",
       "    <tr>\n",
       "      <th>241</th>\n",
       "      <td>29</td>\n",
       "      <td>9</td>\n",
       "      <td>2012</td>\n",
       "      <td>24</td>\n",
       "      <td>54</td>\n",
       "      <td>18</td>\n",
       "      <td>0.1</td>\n",
       "      <td>79.7</td>\n",
       "      <td>4.3</td>\n",
       "      <td>15.2</td>\n",
       "      <td>1.7</td>\n",
       "      <td>5.1</td>\n",
       "      <td>0.7</td>\n",
       "      <td>not fire</td>\n",
       "      <td>1</td>\n",
       "    </tr>\n",
       "    <tr>\n",
       "      <th>242</th>\n",
       "      <td>30</td>\n",
       "      <td>9</td>\n",
       "      <td>2012</td>\n",
       "      <td>24</td>\n",
       "      <td>64</td>\n",
       "      <td>15</td>\n",
       "      <td>0.2</td>\n",
       "      <td>67.3</td>\n",
       "      <td>3.8</td>\n",
       "      <td>16.5</td>\n",
       "      <td>1.2</td>\n",
       "      <td>4.8</td>\n",
       "      <td>0.5</td>\n",
       "      <td>not fire</td>\n",
       "      <td>1</td>\n",
       "    </tr>\n",
       "  </tbody>\n",
       "</table>\n",
       "<p>243 rows × 15 columns</p>\n",
       "</div>"
      ],
      "text/plain": [
       "     day  month  year  Temperature  RH  Ws  Rain  FFMC   DMC    DC  ISI   BUI  \\\n",
       "0      1      6  2012           29  57  18   0.0  65.7   3.4   7.6  1.3   3.4   \n",
       "1      2      6  2012           29  61  13   1.3  64.4   4.1   7.6  1.0   3.9   \n",
       "2      3      6  2012           26  82  22  13.1  47.1   2.5   7.1  0.3   2.7   \n",
       "3      4      6  2012           25  89  13   2.5  28.6   1.3   6.9  0.0   1.7   \n",
       "4      5      6  2012           27  77  16   0.0  64.8   3.0  14.2  1.2   3.9   \n",
       "..   ...    ...   ...          ...  ..  ..   ...   ...   ...   ...  ...   ...   \n",
       "238   26      9  2012           30  65  14   0.0  85.4  16.0  44.5  4.5  16.9   \n",
       "239   27      9  2012           28  87  15   4.4  41.1   6.5   8.0  0.1   6.2   \n",
       "240   28      9  2012           27  87  29   0.5  45.9   3.5   7.9  0.4   3.4   \n",
       "241   29      9  2012           24  54  18   0.1  79.7   4.3  15.2  1.7   5.1   \n",
       "242   30      9  2012           24  64  15   0.2  67.3   3.8  16.5  1.2   4.8   \n",
       "\n",
       "     FWI       Classes  Region  \n",
       "0    0.5   not fire          0  \n",
       "1    0.4   not fire          0  \n",
       "2    0.1   not fire          0  \n",
       "3    0.0   not fire          0  \n",
       "4    0.5   not fire          0  \n",
       "..   ...           ...     ...  \n",
       "238  6.5       fire          1  \n",
       "239  0.0   not fire          1  \n",
       "240  0.2   not fire          1  \n",
       "241  0.7   not fire          1  \n",
       "242  0.5  not fire           1  \n",
       "\n",
       "[243 rows x 15 columns]"
      ]
     },
     "execution_count": 3,
     "metadata": {},
     "output_type": "execute_result"
    }
   ],
   "source": [
    "df"
   ]
  },
  {
   "cell_type": "code",
   "execution_count": 4,
   "id": "21571572",
   "metadata": {},
   "outputs": [
    {
     "data": {
      "text/html": [
       "<div>\n",
       "<style scoped>\n",
       "    .dataframe tbody tr th:only-of-type {\n",
       "        vertical-align: middle;\n",
       "    }\n",
       "\n",
       "    .dataframe tbody tr th {\n",
       "        vertical-align: top;\n",
       "    }\n",
       "\n",
       "    .dataframe thead th {\n",
       "        text-align: right;\n",
       "    }\n",
       "</style>\n",
       "<table border=\"1\" class=\"dataframe\">\n",
       "  <thead>\n",
       "    <tr style=\"text-align: right;\">\n",
       "      <th></th>\n",
       "      <th>day</th>\n",
       "      <th>month</th>\n",
       "      <th>year</th>\n",
       "      <th>Temperature</th>\n",
       "      <th>RH</th>\n",
       "      <th>Ws</th>\n",
       "      <th>Rain</th>\n",
       "      <th>FFMC</th>\n",
       "      <th>DMC</th>\n",
       "      <th>DC</th>\n",
       "      <th>ISI</th>\n",
       "      <th>BUI</th>\n",
       "      <th>FWI</th>\n",
       "      <th>Classes</th>\n",
       "      <th>Region</th>\n",
       "    </tr>\n",
       "  </thead>\n",
       "  <tbody>\n",
       "    <tr>\n",
       "      <th>0</th>\n",
       "      <td>1</td>\n",
       "      <td>6</td>\n",
       "      <td>2012</td>\n",
       "      <td>29</td>\n",
       "      <td>57</td>\n",
       "      <td>18</td>\n",
       "      <td>0.0</td>\n",
       "      <td>65.7</td>\n",
       "      <td>3.4</td>\n",
       "      <td>7.6</td>\n",
       "      <td>1.3</td>\n",
       "      <td>3.4</td>\n",
       "      <td>0.5</td>\n",
       "      <td>not fire</td>\n",
       "      <td>0</td>\n",
       "    </tr>\n",
       "    <tr>\n",
       "      <th>1</th>\n",
       "      <td>2</td>\n",
       "      <td>6</td>\n",
       "      <td>2012</td>\n",
       "      <td>29</td>\n",
       "      <td>61</td>\n",
       "      <td>13</td>\n",
       "      <td>1.3</td>\n",
       "      <td>64.4</td>\n",
       "      <td>4.1</td>\n",
       "      <td>7.6</td>\n",
       "      <td>1.0</td>\n",
       "      <td>3.9</td>\n",
       "      <td>0.4</td>\n",
       "      <td>not fire</td>\n",
       "      <td>0</td>\n",
       "    </tr>\n",
       "    <tr>\n",
       "      <th>2</th>\n",
       "      <td>3</td>\n",
       "      <td>6</td>\n",
       "      <td>2012</td>\n",
       "      <td>26</td>\n",
       "      <td>82</td>\n",
       "      <td>22</td>\n",
       "      <td>13.1</td>\n",
       "      <td>47.1</td>\n",
       "      <td>2.5</td>\n",
       "      <td>7.1</td>\n",
       "      <td>0.3</td>\n",
       "      <td>2.7</td>\n",
       "      <td>0.1</td>\n",
       "      <td>not fire</td>\n",
       "      <td>0</td>\n",
       "    </tr>\n",
       "    <tr>\n",
       "      <th>3</th>\n",
       "      <td>4</td>\n",
       "      <td>6</td>\n",
       "      <td>2012</td>\n",
       "      <td>25</td>\n",
       "      <td>89</td>\n",
       "      <td>13</td>\n",
       "      <td>2.5</td>\n",
       "      <td>28.6</td>\n",
       "      <td>1.3</td>\n",
       "      <td>6.9</td>\n",
       "      <td>0.0</td>\n",
       "      <td>1.7</td>\n",
       "      <td>0.0</td>\n",
       "      <td>not fire</td>\n",
       "      <td>0</td>\n",
       "    </tr>\n",
       "    <tr>\n",
       "      <th>4</th>\n",
       "      <td>5</td>\n",
       "      <td>6</td>\n",
       "      <td>2012</td>\n",
       "      <td>27</td>\n",
       "      <td>77</td>\n",
       "      <td>16</td>\n",
       "      <td>0.0</td>\n",
       "      <td>64.8</td>\n",
       "      <td>3.0</td>\n",
       "      <td>14.2</td>\n",
       "      <td>1.2</td>\n",
       "      <td>3.9</td>\n",
       "      <td>0.5</td>\n",
       "      <td>not fire</td>\n",
       "      <td>0</td>\n",
       "    </tr>\n",
       "  </tbody>\n",
       "</table>\n",
       "</div>"
      ],
      "text/plain": [
       "   day  month  year  Temperature  RH  Ws  Rain  FFMC  DMC    DC  ISI  BUI  \\\n",
       "0    1      6  2012           29  57  18   0.0  65.7  3.4   7.6  1.3  3.4   \n",
       "1    2      6  2012           29  61  13   1.3  64.4  4.1   7.6  1.0  3.9   \n",
       "2    3      6  2012           26  82  22  13.1  47.1  2.5   7.1  0.3  2.7   \n",
       "3    4      6  2012           25  89  13   2.5  28.6  1.3   6.9  0.0  1.7   \n",
       "4    5      6  2012           27  77  16   0.0  64.8  3.0  14.2  1.2  3.9   \n",
       "\n",
       "   FWI      Classes  Region  \n",
       "0  0.5  not fire          0  \n",
       "1  0.4  not fire          0  \n",
       "2  0.1  not fire          0  \n",
       "3  0.0  not fire          0  \n",
       "4  0.5  not fire          0  "
      ]
     },
     "execution_count": 4,
     "metadata": {},
     "output_type": "execute_result"
    }
   ],
   "source": [
    "df.head()"
   ]
  },
  {
   "cell_type": "code",
   "execution_count": 5,
   "id": "8c4ca75b",
   "metadata": {},
   "outputs": [
    {
     "name": "stdout",
     "output_type": "stream",
     "text": [
      "<class 'pandas.core.frame.DataFrame'>\n",
      "RangeIndex: 243 entries, 0 to 242\n",
      "Data columns (total 15 columns):\n",
      " #   Column       Non-Null Count  Dtype  \n",
      "---  ------       --------------  -----  \n",
      " 0   day          243 non-null    int64  \n",
      " 1   month        243 non-null    int64  \n",
      " 2   year         243 non-null    int64  \n",
      " 3   Temperature  243 non-null    int64  \n",
      " 4   RH           243 non-null    int64  \n",
      " 5   Ws           243 non-null    int64  \n",
      " 6   Rain         243 non-null    float64\n",
      " 7   FFMC         243 non-null    float64\n",
      " 8   DMC          243 non-null    float64\n",
      " 9   DC           243 non-null    float64\n",
      " 10  ISI          243 non-null    float64\n",
      " 11  BUI          243 non-null    float64\n",
      " 12  FWI          243 non-null    float64\n",
      " 13  Classes      243 non-null    object \n",
      " 14  Region       243 non-null    int64  \n",
      "dtypes: float64(7), int64(7), object(1)\n",
      "memory usage: 28.6+ KB\n"
     ]
    }
   ],
   "source": [
    "df.info()"
   ]
  },
  {
   "cell_type": "markdown",
   "id": "1886f9a5",
   "metadata": {},
   "source": [
    "<!--\n",
    "This is a summary of the dataset, showing that there are 243 entries (rows) and 15 columns in total.\n",
    "\n",
    "Each column is described with its name, the count of non-null values, and the data type (dtype).\n",
    "\n",
    "- day, month, year: These columns are of type 'int64', which means they are integers. These columns represent the day, month, and year of the recorded data points.\n",
    "- Temperature, RH (Relative Humidity), Ws (Wind Speed), Rain: These columns are also of type 'int64' or 'float64', containing numerical data. Temperature and Wind Speed are integers, while Rain is a floating point number.\n",
    "- FFMC, DMC, DC, ISI, BUI, FWI: These are continuous features (float64), possibly related to fire weather indices. They represent different environmental factors that can influence fire behavior.\n",
    "- Classes: This is an object (categorical) column that likely represents whether a fire occurred or not, labeled as 'fire' or 'not fire'.\n",
    "- Region: This is an 'int64' column, indicating the region where the fire occurred or the data was recorded.\n",
    "\n",
    "The dataset uses both numerical and categorical data types, and there are no missing (null) values as indicated by the 'Non-Null Count' being 243 for all columns.\n",
    "-->\n"
   ]
  },
  {
   "cell_type": "markdown",
   "id": "0289759b",
   "metadata": {},
   "source": [
    "<p>The dataset consists of 243 entries (rows) and 15 columns. Each column has a 'Non-Null Count' and a 'Data Type' (dtype).</p>\n",
    "\n",
    "<p>Below is a description of the columns:</p>\n",
    "\n",
    "<ul>\n",
    "  <li><b>day, month, year</b>: These columns are of type <code>int64</code>, representing the day, month, and year of the recorded data points.</li>\n",
    "  <li><b>Temperature, RH (Relative Humidity), Ws (Wind Speed), Rain</b>: These columns are of type <code>int64</code> or <code>float64</code>, containing numerical data. Temperature and Wind Speed are integers, while Rain is a floating point number.</li>\n",
    "  <li><b>FFMC, DMC, DC, ISI, BUI, FWI</b>: These are continuous features of type <code>float64</code>, likely related to fire weather indices. They represent different environmental factors that can influence fire behavior.</li>\n",
    "  <li><b>Classes</b>: This is a categorical column of type <code>object</code>, representing whether a fire occurred or not, labeled as 'fire' or 'not fire'.</li>\n",
    "  <li><b>Region</b>: This column is of type <code>int64</code>, indicating the region where the fire occurred or the data was recorded.</li>\n",
    "</ul>\n",
    "\n",
    "<p>The dataset contains no missing (null) values, as all columns have 243 non-null entries.</p>\n"
   ]
  },
  {
   "cell_type": "code",
   "execution_count": 6,
   "id": "f0ccb1a7",
   "metadata": {},
   "outputs": [
    {
     "data": {
      "text/plain": [
       "day            0\n",
       "month          0\n",
       "year           0\n",
       "Temperature    0\n",
       "RH             0\n",
       "Ws             0\n",
       "Rain           0\n",
       "FFMC           0\n",
       "DMC            0\n",
       "DC             0\n",
       "ISI            0\n",
       "BUI            0\n",
       "FWI            0\n",
       "Classes        0\n",
       "Region         0\n",
       "dtype: int64"
      ]
     },
     "execution_count": 6,
     "metadata": {},
     "output_type": "execute_result"
    }
   ],
   "source": [
    "df.isnull().sum()"
   ]
  },
  {
   "cell_type": "code",
   "execution_count": 7,
   "id": "1333687a",
   "metadata": {},
   "outputs": [
    {
     "data": {
      "text/plain": [
       "0"
      ]
     },
     "execution_count": 7,
     "metadata": {},
     "output_type": "execute_result"
    }
   ],
   "source": [
    "df.duplicated().sum()"
   ]
  },
  {
   "cell_type": "markdown",
   "id": "703a5345",
   "metadata": {},
   "source": [
    "<p>The command <code>df.duplicated().sum()</code> checks for duplicate rows in the dataset.</p>\n",
    "\n",
    "<p>The output is <b>0</b>, which means that there are no duplicate rows in the dataset.</p>\n"
   ]
  },
  {
   "cell_type": "code",
   "execution_count": 225,
   "id": "14fe2780",
   "metadata": {},
   "outputs": [
    {
     "data": {
      "text/plain": [
       "array([0, 1], dtype=int64)"
      ]
     },
     "execution_count": 225,
     "metadata": {},
     "output_type": "execute_result"
    }
   ],
   "source": [
    "df['Region'].unique()"
   ]
  },
  {
   "cell_type": "code",
   "execution_count": 8,
   "id": "03fc6fef",
   "metadata": {},
   "outputs": [
    {
     "data": {
      "text/plain": [
       "array([0], dtype=int64)"
      ]
     },
     "execution_count": 8,
     "metadata": {},
     "output_type": "execute_result"
    }
   ],
   "source": [
    "df[df['Classes']=='not fire']['Region'].unique()"
   ]
  },
  {
   "cell_type": "code",
   "execution_count": 9,
   "id": "29f684bf",
   "metadata": {},
   "outputs": [
    {
     "data": {
      "text/plain": [
       "array([0], dtype=int64)"
      ]
     },
     "execution_count": 9,
     "metadata": {},
     "output_type": "execute_result"
    }
   ],
   "source": [
    "df[df['Classes']=='fire']['Region'].unique()"
   ]
  },
  {
   "cell_type": "code",
   "execution_count": 10,
   "id": "5b19c14f",
   "metadata": {},
   "outputs": [
    {
     "data": {
      "text/plain": [
       "array([0, 1], dtype=int64)"
      ]
     },
     "execution_count": 10,
     "metadata": {},
     "output_type": "execute_result"
    }
   ],
   "source": [
    "df['Region'].unique()"
   ]
  },
  {
   "cell_type": "code",
   "execution_count": 229,
   "id": "188c1b93",
   "metadata": {},
   "outputs": [
    {
     "data": {
      "text/html": [
       "<div>\n",
       "<style scoped>\n",
       "    .dataframe tbody tr th:only-of-type {\n",
       "        vertical-align: middle;\n",
       "    }\n",
       "\n",
       "    .dataframe tbody tr th {\n",
       "        vertical-align: top;\n",
       "    }\n",
       "\n",
       "    .dataframe thead th {\n",
       "        text-align: right;\n",
       "    }\n",
       "</style>\n",
       "<table border=\"1\" class=\"dataframe\">\n",
       "  <thead>\n",
       "    <tr style=\"text-align: right;\">\n",
       "      <th></th>\n",
       "      <th>day</th>\n",
       "      <th>month</th>\n",
       "      <th>year</th>\n",
       "      <th>Temperature</th>\n",
       "      <th>RH</th>\n",
       "      <th>Ws</th>\n",
       "      <th>Rain</th>\n",
       "      <th>FFMC</th>\n",
       "      <th>DMC</th>\n",
       "      <th>DC</th>\n",
       "      <th>ISI</th>\n",
       "      <th>BUI</th>\n",
       "      <th>FWI</th>\n",
       "      <th>Classes</th>\n",
       "      <th>Region</th>\n",
       "    </tr>\n",
       "  </thead>\n",
       "  <tbody>\n",
       "    <tr>\n",
       "      <th>122</th>\n",
       "      <td>1</td>\n",
       "      <td>6</td>\n",
       "      <td>2012</td>\n",
       "      <td>32</td>\n",
       "      <td>71</td>\n",
       "      <td>12</td>\n",
       "      <td>0.7</td>\n",
       "      <td>57.1</td>\n",
       "      <td>2.5</td>\n",
       "      <td>8.2</td>\n",
       "      <td>0.6</td>\n",
       "      <td>2.8</td>\n",
       "      <td>0.2</td>\n",
       "      <td>not fire</td>\n",
       "      <td>1</td>\n",
       "    </tr>\n",
       "    <tr>\n",
       "      <th>123</th>\n",
       "      <td>2</td>\n",
       "      <td>6</td>\n",
       "      <td>2012</td>\n",
       "      <td>30</td>\n",
       "      <td>73</td>\n",
       "      <td>13</td>\n",
       "      <td>4.0</td>\n",
       "      <td>55.7</td>\n",
       "      <td>2.7</td>\n",
       "      <td>7.8</td>\n",
       "      <td>0.6</td>\n",
       "      <td>2.9</td>\n",
       "      <td>0.2</td>\n",
       "      <td>not fire</td>\n",
       "      <td>1</td>\n",
       "    </tr>\n",
       "    <tr>\n",
       "      <th>124</th>\n",
       "      <td>3</td>\n",
       "      <td>6</td>\n",
       "      <td>2012</td>\n",
       "      <td>29</td>\n",
       "      <td>80</td>\n",
       "      <td>14</td>\n",
       "      <td>2.0</td>\n",
       "      <td>48.7</td>\n",
       "      <td>2.2</td>\n",
       "      <td>7.6</td>\n",
       "      <td>0.3</td>\n",
       "      <td>2.6</td>\n",
       "      <td>0.1</td>\n",
       "      <td>not fire</td>\n",
       "      <td>1</td>\n",
       "    </tr>\n",
       "    <tr>\n",
       "      <th>125</th>\n",
       "      <td>4</td>\n",
       "      <td>6</td>\n",
       "      <td>2012</td>\n",
       "      <td>30</td>\n",
       "      <td>64</td>\n",
       "      <td>14</td>\n",
       "      <td>0.0</td>\n",
       "      <td>79.4</td>\n",
       "      <td>5.2</td>\n",
       "      <td>15.4</td>\n",
       "      <td>2.2</td>\n",
       "      <td>5.6</td>\n",
       "      <td>1.0</td>\n",
       "      <td>not fire</td>\n",
       "      <td>1</td>\n",
       "    </tr>\n",
       "    <tr>\n",
       "      <th>126</th>\n",
       "      <td>5</td>\n",
       "      <td>6</td>\n",
       "      <td>2012</td>\n",
       "      <td>32</td>\n",
       "      <td>60</td>\n",
       "      <td>14</td>\n",
       "      <td>0.2</td>\n",
       "      <td>77.1</td>\n",
       "      <td>6.0</td>\n",
       "      <td>17.6</td>\n",
       "      <td>1.8</td>\n",
       "      <td>6.5</td>\n",
       "      <td>0.9</td>\n",
       "      <td>not fire</td>\n",
       "      <td>1</td>\n",
       "    </tr>\n",
       "    <tr>\n",
       "      <th>...</th>\n",
       "      <td>...</td>\n",
       "      <td>...</td>\n",
       "      <td>...</td>\n",
       "      <td>...</td>\n",
       "      <td>...</td>\n",
       "      <td>...</td>\n",
       "      <td>...</td>\n",
       "      <td>...</td>\n",
       "      <td>...</td>\n",
       "      <td>...</td>\n",
       "      <td>...</td>\n",
       "      <td>...</td>\n",
       "      <td>...</td>\n",
       "      <td>...</td>\n",
       "      <td>...</td>\n",
       "    </tr>\n",
       "    <tr>\n",
       "      <th>238</th>\n",
       "      <td>26</td>\n",
       "      <td>9</td>\n",
       "      <td>2012</td>\n",
       "      <td>30</td>\n",
       "      <td>65</td>\n",
       "      <td>14</td>\n",
       "      <td>0.0</td>\n",
       "      <td>85.4</td>\n",
       "      <td>16.0</td>\n",
       "      <td>44.5</td>\n",
       "      <td>4.5</td>\n",
       "      <td>16.9</td>\n",
       "      <td>6.5</td>\n",
       "      <td>fire</td>\n",
       "      <td>1</td>\n",
       "    </tr>\n",
       "    <tr>\n",
       "      <th>239</th>\n",
       "      <td>27</td>\n",
       "      <td>9</td>\n",
       "      <td>2012</td>\n",
       "      <td>28</td>\n",
       "      <td>87</td>\n",
       "      <td>15</td>\n",
       "      <td>4.4</td>\n",
       "      <td>41.1</td>\n",
       "      <td>6.5</td>\n",
       "      <td>8.0</td>\n",
       "      <td>0.1</td>\n",
       "      <td>6.2</td>\n",
       "      <td>0.0</td>\n",
       "      <td>not fire</td>\n",
       "      <td>1</td>\n",
       "    </tr>\n",
       "    <tr>\n",
       "      <th>240</th>\n",
       "      <td>28</td>\n",
       "      <td>9</td>\n",
       "      <td>2012</td>\n",
       "      <td>27</td>\n",
       "      <td>87</td>\n",
       "      <td>29</td>\n",
       "      <td>0.5</td>\n",
       "      <td>45.9</td>\n",
       "      <td>3.5</td>\n",
       "      <td>7.9</td>\n",
       "      <td>0.4</td>\n",
       "      <td>3.4</td>\n",
       "      <td>0.2</td>\n",
       "      <td>not fire</td>\n",
       "      <td>1</td>\n",
       "    </tr>\n",
       "    <tr>\n",
       "      <th>241</th>\n",
       "      <td>29</td>\n",
       "      <td>9</td>\n",
       "      <td>2012</td>\n",
       "      <td>24</td>\n",
       "      <td>54</td>\n",
       "      <td>18</td>\n",
       "      <td>0.1</td>\n",
       "      <td>79.7</td>\n",
       "      <td>4.3</td>\n",
       "      <td>15.2</td>\n",
       "      <td>1.7</td>\n",
       "      <td>5.1</td>\n",
       "      <td>0.7</td>\n",
       "      <td>not fire</td>\n",
       "      <td>1</td>\n",
       "    </tr>\n",
       "    <tr>\n",
       "      <th>242</th>\n",
       "      <td>30</td>\n",
       "      <td>9</td>\n",
       "      <td>2012</td>\n",
       "      <td>24</td>\n",
       "      <td>64</td>\n",
       "      <td>15</td>\n",
       "      <td>0.2</td>\n",
       "      <td>67.3</td>\n",
       "      <td>3.8</td>\n",
       "      <td>16.5</td>\n",
       "      <td>1.2</td>\n",
       "      <td>4.8</td>\n",
       "      <td>0.5</td>\n",
       "      <td>not fire</td>\n",
       "      <td>1</td>\n",
       "    </tr>\n",
       "  </tbody>\n",
       "</table>\n",
       "<p>121 rows × 15 columns</p>\n",
       "</div>"
      ],
      "text/plain": [
       "     day  month  year  Temperature  RH  Ws  Rain  FFMC   DMC    DC  ISI   BUI  \\\n",
       "122    1      6  2012           32  71  12   0.7  57.1   2.5   8.2  0.6   2.8   \n",
       "123    2      6  2012           30  73  13   4.0  55.7   2.7   7.8  0.6   2.9   \n",
       "124    3      6  2012           29  80  14   2.0  48.7   2.2   7.6  0.3   2.6   \n",
       "125    4      6  2012           30  64  14   0.0  79.4   5.2  15.4  2.2   5.6   \n",
       "126    5      6  2012           32  60  14   0.2  77.1   6.0  17.6  1.8   6.5   \n",
       "..   ...    ...   ...          ...  ..  ..   ...   ...   ...   ...  ...   ...   \n",
       "238   26      9  2012           30  65  14   0.0  85.4  16.0  44.5  4.5  16.9   \n",
       "239   27      9  2012           28  87  15   4.4  41.1   6.5   8.0  0.1   6.2   \n",
       "240   28      9  2012           27  87  29   0.5  45.9   3.5   7.9  0.4   3.4   \n",
       "241   29      9  2012           24  54  18   0.1  79.7   4.3  15.2  1.7   5.1   \n",
       "242   30      9  2012           24  64  15   0.2  67.3   3.8  16.5  1.2   4.8   \n",
       "\n",
       "     FWI       Classes  Region  \n",
       "122  0.2   not fire          1  \n",
       "123  0.2   not fire          1  \n",
       "124  0.1   not fire          1  \n",
       "125  1.0   not fire          1  \n",
       "126  0.9   not fire          1  \n",
       "..   ...           ...     ...  \n",
       "238  6.5       fire          1  \n",
       "239  0.0   not fire          1  \n",
       "240  0.2   not fire          1  \n",
       "241  0.7   not fire          1  \n",
       "242  0.5  not fire           1  \n",
       "\n",
       "[121 rows x 15 columns]"
      ]
     },
     "execution_count": 229,
     "metadata": {},
     "output_type": "execute_result"
    }
   ],
   "source": [
    "df[df['Region']==1]"
   ]
  },
  {
   "cell_type": "code",
   "execution_count": 11,
   "id": "24c9a856",
   "metadata": {},
   "outputs": [],
   "source": [
    "import seaborn as sns"
   ]
  },
  {
   "cell_type": "code",
   "execution_count": 12,
   "id": "c1c7b57f",
   "metadata": {},
   "outputs": [],
   "source": [
    "sns.set_style('whitegrid')"
   ]
  },
  {
   "cell_type": "code",
   "execution_count": 13,
   "id": "ca268c4e",
   "metadata": {},
   "outputs": [
    {
     "data": {
      "text/plain": [
       "array(['not fire   ', 'fire   ', 'fire', 'fire ', 'not fire', 'not fire ',\n",
       "       'not fire     ', 'not fire    '], dtype=object)"
      ]
     },
     "execution_count": 13,
     "metadata": {},
     "output_type": "execute_result"
    }
   ],
   "source": [
    "df['Classes'].unique()"
   ]
  },
  {
   "cell_type": "markdown",
   "id": "b2e23a5c",
   "metadata": {},
   "source": [
    "<p>The array output shows some variations in how the 'fire' and 'not fire' labels are written, with extra spaces at the end of the strings.</p>\n",
    "\n",
    "<p>To clean this data and ensure consistent formatting, we can remove the extra spaces using the <code>strip()</code> function or by using the <code>str.strip()</code> method in pandas.</p>\n"
   ]
  },
  {
   "cell_type": "code",
   "execution_count": 14,
   "id": "b9b1d07a",
   "metadata": {},
   "outputs": [],
   "source": [
    "df['Classes']=df['Classes'].str.strip().map(lambda x: 'fire' if x=='fire' else 'not fire')"
   ]
  },
  {
   "cell_type": "code",
   "execution_count": 15,
   "id": "987422f3",
   "metadata": {},
   "outputs": [
    {
     "data": {
      "text/plain": [
       "array(['not fire', 'fire'], dtype=object)"
      ]
     },
     "execution_count": 15,
     "metadata": {},
     "output_type": "execute_result"
    }
   ],
   "source": [
    "df['Classes'].unique()"
   ]
  },
  {
   "cell_type": "code",
   "execution_count": 235,
   "id": "ce4e82c7",
   "metadata": {},
   "outputs": [
    {
     "data": {
      "text/plain": [
       "array([2012], dtype=int64)"
      ]
     },
     "execution_count": 235,
     "metadata": {},
     "output_type": "execute_result"
    }
   ],
   "source": [
    "df['year'].unique()"
   ]
  },
  {
   "cell_type": "code",
   "execution_count": 279,
   "id": "e41c61ae",
   "metadata": {},
   "outputs": [
    {
     "data": {
      "text/plain": [
       "array([ 0.5,  0.4,  0.1,  0. ,  2.5,  7.2,  7.1,  0.3,  0.9,  5.6,  0.2,\n",
       "        1.4,  2.2,  2.3,  3.8,  7.5,  8.4, 10.6, 15. , 13.9,  3.9, 12.9,\n",
       "        1.7,  4.9,  6.8,  3.2,  8. ,  0.6,  3.4,  0.8,  3.6,  6. , 10.9,\n",
       "        4. ,  8.8,  2.8,  2.1,  1.3,  7.3, 15.3, 11.3, 11.9, 10.7, 15.7,\n",
       "        6.1,  2.6,  9.9, 11.6, 12.1,  4.2, 10.2,  6.3, 14.6, 16.1, 17.2,\n",
       "       16.8, 18.4, 20.4, 22.3, 20.9, 20.3, 13.7, 13.2, 19.9, 30.2,  5.9,\n",
       "        7.7,  9.7,  8.3,  0.7,  4.1,  1. ,  3.1,  1.9, 10. , 16.7,  1.2,\n",
       "        5.3,  6.7,  9.5, 12. ,  6.4,  5.2,  3. ,  9.6,  4.7, 14.1,  9.1,\n",
       "       13. , 17.3, 30. , 25.4, 16.3,  9. , 14.5, 13.5, 19.5, 12.6, 12.7,\n",
       "       21.6, 18.8, 10.5,  5.5, 14.8, 24. , 26.3, 12.2, 18.1, 24.5, 26.9,\n",
       "       31.1, 30.3, 26.1, 16. , 19.4,  2.7,  3.7, 10.3,  5.7,  9.8, 19.3,\n",
       "       17.5, 15.4, 15.2,  6.5])"
      ]
     },
     "execution_count": 279,
     "metadata": {},
     "output_type": "execute_result"
    }
   ],
   "source": [
    "df['FWI'].unique()"
   ]
  },
  {
   "cell_type": "markdown",
   "id": "679fca64",
   "metadata": {},
   "source": [
    "<p>In this analysis, the array represents a series of numerical values, which could be from a feature like the Fire Weather Index (FWI) or another variable in the dataset.</p>\n",
    "\n",
    "<p>From the box plot I created, I noticed several data points that are far from the majority of values, especially those above the 75th percentile (upper whisker) and below the 25th percentile (lower whisker). These are potential outliers in the data.</p>\n",
    "\n",
    "<p>Outliers are values that lie significantly outside the range of most other data points. In this case, the maximum value in the array is 31.1, and values that exceed this range are considered outliers.</p>\n",
    "\n",
    "<p>In this analysis, I did not handle the outliers explicitly. I chose to leave them in the dataset as I believe they could represent valid extreme cases, especially since the data is related to fire occurrences, where large events could naturally skew the values.</p>\n",
    "\n",
    "<p>For now, I am keeping the data as is, to observe whether the outliers impact the results, particularly in terms of model accuracy and prediction. If the model shows that these outliers significantly affect performance, I may choose to address them in future iterations.</p>\n"
   ]
  },
  {
   "cell_type": "code",
   "execution_count": 278,
   "id": "3ae35636",
   "metadata": {},
   "outputs": [
    {
     "data": {
      "image/png": "[encoded data removed]",
      "text/plain": [
       "<Figure size 432x288 with 1 Axes>"
      ]
     },
     "metadata": {},
     "output_type": "display_data"
    }
   ],
   "source": [
    "plt.boxplot(df['FWI'])\n",
    "plt.ylim(0,50)\n",
    "plt.show()\n"
   ]
  },
  {
   "cell_type": "code",
   "execution_count": 236,
   "id": "cf2334f5",
   "metadata": {},
   "outputs": [
    {
     "data": {
      "text/plain": [
       "month\n",
       "8    51\n",
       "7    38\n",
       "6    25\n",
       "9    23\n",
       "Name: Classes, dtype: int64"
      ]
     },
     "execution_count": 236,
     "metadata": {},
     "output_type": "execute_result"
    }
   ],
   "source": [
    "df[df['Classes']=='fire'].groupby('month')['Classes'].count().sort_values(ascending=False)"
   ]
  },
  {
   "cell_type": "code",
   "execution_count": 261,
   "id": "da7ad08d",
   "metadata": {},
   "outputs": [],
   "source": [
    "df_fwi=df.groupby('month')['FWI'].mean().reset_index().sort_values(by='month')"
   ]
  },
  {
   "cell_type": "code",
   "execution_count": 273,
   "id": "e9ce1d75",
   "metadata": {},
   "outputs": [
    {
     "data": {
      "image/png": "[encoded data removed]",
      "text/plain": [
       "<Figure size 432x288 with 1 Axes>"
      ]
     },
     "metadata": {},
     "output_type": "display_data"
    }
   ],
   "source": [
    "bars=plt.bar(df_fwi['month'],df_fwi['FWI'])\n",
    "plt.xticks(df_fwi['month'],labels=['June','July','August','September'],rotation=45,fontsize=10,fontweight='bold') \n",
    "for bar in bars:\n",
    "    yval=bar.get_height()\n",
    "    plt.text(bar.get_x() + bar.get_width() / 2, yval + 0.3,\n",
    "                 str(round(yval, 2)),\n",
    "                 ha='center', va='bottom', fontsize=10, fontweight='bold')\n",
    "plt.xlabel('Month',fontsize=15,fontweight='bold')\n",
    "plt.ylabel('FWI',fontsize=15,fontweight='bold')\n",
    "plt.show()"
   ]
  },
  {
   "cell_type": "markdown",
   "id": "a96bab33",
   "metadata": {},
   "source": [
    "<p>After calculating the average Fire Weather Index (FWI) for each month, I grouped the data by the 'month' column and computed the mean FWI for each month. This allowed me to observe the average FWI value across different months in the dataset.</p>\n",
    "\n",
    "<p>I then sorted the values by 'month' to create a chronological order of the data, making it easier to analyze seasonal trends.</p>\n",
    "\n",
    "<p>From the bar plot, I observed that the Fire Weather Index (FWI) was highest in August, followed by July, June, and September. This suggests that the fire weather conditions, as measured by the FWI, were more severe during the summer months (June to August), with a noticeable decline in September.</p>\n",
    "\n",
    "<p>This trend is consistent with expectations, as the summer months generally experience hotter and drier weather, which can lead to higher FWI values, indicating a higher risk of forest fires. The decline in FWI values in September might suggest the onset of more favorable weather conditions or the end of the peak fire season.</p>\n",
    "\n",
    "<p>By observing these patterns, I can better understand the seasonal variations in fire risk, which could be useful for future prediction models or decision-making related to fire prevention and resource allocation.</p>\n"
   ]
  },
  {
   "cell_type": "code",
   "execution_count": 241,
   "id": "2e63e907",
   "metadata": {},
   "outputs": [
    {
     "data": {
      "image/png": "[encoded data removed]",
      "text/plain": [
       "<Figure size 720x432 with 1 Axes>"
      ]
     },
     "metadata": {},
     "output_type": "display_data"
    }
   ],
   "source": [
    "custom_palette = {'fire': 'red', 'not fire': 'blue'}\n",
    "\n",
    "plt.figure(figsize=(10,6))\n",
    "ax=sns.countplot(data=df, x='month', hue='Classes', palette=custom_palette)\n",
    "for p in ax.patches:\n",
    "    height = p.get_height()\n",
    "    ax.annotate(f'{height}', \n",
    "                (p.get_x() + p.get_width() / 2, height), \n",
    "                ha='center', va='bottom', fontsize=12, fontweight='bold')\n",
    "\n",
    "plt.xlabel('Month', fontsize=14, fontweight='bold')\n",
    "plt.ylabel('Count', fontsize=14, fontweight='bold')\n",
    "plt.title('Fire Occurrences by Month', fontsize=16, fontweight='bold')\n",
    "\n",
    "plt.show()\n"
   ]
  },
  {
   "cell_type": "markdown",
   "id": "1cc3b2bb",
   "metadata": {},
   "source": [
    "<p>To further investigate the distribution of fire occurrences across different months, I created a count plot, where the x-axis represents the months and the hue represents the fire classification ('fire' or 'not fire'). I customized the plot's color palette, using 'red' for 'fire' and 'blue' for 'not fire', to visually distinguish between the two categories.</p>\n",
    "\n",
    "<p>Upon inspecting the plot, I observed a similar trend to the one I saw in the average Fire Weather Index (FWI) values. The frequency of fire occurrences was highest during the summer months (June to August), with August showing the most significant number of fire events. As in the FWI analysis, this trend suggests that fire occurrences are more common during the hotter, drier months of the year.</p>\n",
    "\n",
    "<p>I also annotated the bars of the plot to display the exact count of fire and non-fire occurrences for each month, making it easier to quantify the differences in fire activity across months.</p>\n",
    "\n",
    "<p>This additional visualization confirmed the seasonal nature of fire occurrences, further reinforcing the findings from the FWI analysis and providing a clearer picture of the trends in fire risks over the course of the year.</p>\n"
   ]
  },
  {
   "cell_type": "code",
   "execution_count": 242,
   "id": "0f12cab5",
   "metadata": {},
   "outputs": [],
   "source": [
    "df['Classes']=df['Classes'].map({'not fire':0,'fire':1})"
   ]
  },
  {
   "cell_type": "markdown",
   "id": "fb6b2814",
   "metadata": {},
   "source": [
    "<p>In the dataset, the 'Classes' column contains categorical values ('not fire' and 'fire') that represent whether a particular record corresponds to a fire occurrence or not. For the purpose of modeling, I mapped these categorical values to numerical values. Specifically, I converted 'not fire' to 0 and 'fire' to 1. This step is essential for machine learning models, as they require numerical input data rather than categorical labels.</p>\n",
    "\n",
    "<p>The mapping was done using the <code>map()</code> function in Pandas, which allows us to replace the original categorical labels with the corresponding numeric values, making the data ready for modeling. This transformation will facilitate the training of machine learning models that predict fire occurrences based on the features in the dataset.</p>\n"
   ]
  },
  {
   "cell_type": "code",
   "execution_count": 243,
   "id": "637c022e",
   "metadata": {},
   "outputs": [
    {
     "name": "stdout",
     "output_type": "stream",
     "text": [
      "Classes        1.000000\n",
      "FFMC           0.769492\n",
      "ISI            0.735197\n",
      "FWI            0.719216\n",
      "BUI            0.586639\n",
      "DMC            0.585658\n",
      "Temperature    0.516015\n",
      "DC             0.511123\n",
      "day            0.202840\n",
      "Region         0.162347\n",
      "month          0.024004\n",
      "Ws            -0.069964\n",
      "Rain          -0.379097\n",
      "RH            -0.432161\n",
      "year                NaN\n",
      "Name: Classes, dtype: float64\n"
     ]
    }
   ],
   "source": [
    "corr_matrix = df.corr()\n",
    "fire_corr = corr_matrix['Classes'].sort_values(ascending=False)\n",
    "print(fire_corr)"
   ]
  },
  {
   "cell_type": "markdown",
   "id": "9d877c17",
   "metadata": {},
   "source": [
    "<p>To explore the relationship between the target variable ('Classes', representing fire occurrences) and other features in the dataset, I computed the correlation matrix. Correlation measures the strength and direction of the linear relationship between pairs of variables. The correlation values range from -1 to 1, where values closer to 1 indicate a strong positive relationship, values closer to -1 indicate a strong negative relationship, and values around 0 suggest no linear relationship.</p>\n",
    "\n",
    "<p>The output of the correlation matrix shows the correlation between 'Classes' (fire occurrence) and other features:</p>\n",
    "<ul>\n",
    "    <li><b>FFMC (Fine Fuel Moisture Code)</b>: 0.769, indicating a strong positive correlation with fire occurrences.</li>\n",
    "    <li><b>ISI (Initial Spread Index)</b>: 0.735, showing a strong positive correlation with fire occurrences.</li>\n",
    "    <li><b>FWI (Fire Weather Index)</b>: 0.719, also positively correlated with fire occurrences, supporting the idea that higher FWI is associated with a higher likelihood of fire.</li>\n",
    "    <li><b>BUI (Buildup Index)</b>: 0.586, suggesting a moderate positive correlation with fire occurrences.</li>\n",
    "    <li><b>DMC (Duff Moisture Code)</b>: 0.586, similar to BUI, indicating a moderate positive relationship with fire occurrences.</li>\n",
    "    <li><b>Temperature</b>: 0.516, indicating a moderate positive relationship with fire occurrences, with higher temperatures contributing to fire risk.</li>\n",
    "    <li><b>DC (Drought Code)</b>: 0.511, showing a moderate positive correlation with fire occurrences.</li>\n",
    "    <li><b>Day</b>: 0.202, a weak positive correlation with fire occurrences.</li>\n",
    "    <li><b>Region</b>: 0.162, a very weak positive correlation, suggesting the region has a minimal effect on fire occurrences.</li>\n",
    "    <li><b>Month</b>: 0.024, showing almost no correlation with fire occurrences, indicating that the month itself may not significantly influence fire risk.</li>\n",
    "    <li><b>Ws (Wind Speed)</b>: -0.070, indicating a very weak negative correlation with fire occurrences.</li>\n",
    "    <li><b>Rain</b>: -0.379, a moderate negative correlation, suggesting that higher rainfall tends to reduce the likelihood of fire occurrences.</li>\n",
    "    <li><b>RH (Relative Humidity)</b>: -0.432, a moderate negative correlation, indicating that higher humidity is associated with lower fire occurrence.</li>\n",
    "</ul>\n",
    "\n",
    "<p>From this analysis, we can see that variables like FFMC, ISI, FWI, and BUI have strong positive correlations with fire occurrences, making them potentially important predictors for fire risk. On the other hand, rain and relative humidity have moderate negative correlations, which suggest that more rain and higher humidity tend to reduce the chances of a fire.</p>\n"
   ]
  },
  {
   "cell_type": "code",
   "execution_count": 244,
   "id": "afe17c3e",
   "metadata": {},
   "outputs": [
    {
     "data": {
      "text/plain": [
       "array([ 1,  2,  3,  4,  5,  6,  7,  8,  9, 10, 11, 12, 13, 14, 15, 16, 17,\n",
       "       18, 19, 20, 21, 22, 23, 24, 25, 26, 27, 28, 29, 30, 31],\n",
       "      dtype=int64)"
      ]
     },
     "execution_count": 244,
     "metadata": {},
     "output_type": "execute_result"
    }
   ],
   "source": [
    "df['day'].unique()"
   ]
  },
  {
   "cell_type": "code",
   "execution_count": 245,
   "id": "c708b78f",
   "metadata": {},
   "outputs": [
    {
     "data": {
      "text/plain": [
       "array([6, 7, 8, 9], dtype=int64)"
      ]
     },
     "execution_count": 245,
     "metadata": {},
     "output_type": "execute_result"
    }
   ],
   "source": [
    "df['month'].unique()"
   ]
  },
  {
   "cell_type": "code",
   "execution_count": 246,
   "id": "3a846c4a",
   "metadata": {},
   "outputs": [
    {
     "data": {
      "text/plain": [
       "month\n",
       "8    86.175806\n",
       "7    81.145902\n",
       "6    72.366667\n",
       "9    71.348333\n",
       "Name: FFMC, dtype: float64"
      ]
     },
     "execution_count": 246,
     "metadata": {},
     "output_type": "execute_result"
    }
   ],
   "source": [
    "df.groupby('month')['FFMC'].mean().sort_values(ascending=False)"
   ]
  },
  {
   "cell_type": "code",
   "execution_count": 247,
   "id": "1fe21592",
   "metadata": {},
   "outputs": [
    {
     "data": {
      "text/plain": [
       "month\n",
       "8    35.338710\n",
       "7    32.983607\n",
       "6    30.800000\n",
       "9    29.366667\n",
       "Name: Temperature, dtype: float64"
      ]
     },
     "execution_count": 247,
     "metadata": {},
     "output_type": "execute_result"
    }
   ],
   "source": [
    "df.groupby('month')['Temperature'].mean().sort_values(ascending=False)"
   ]
  },
  {
   "cell_type": "code",
   "execution_count": 248,
   "id": "0899022f",
   "metadata": {},
   "outputs": [],
   "source": [
    "df_grouped=df.groupby('month')[['FFMC','ISI','FWI','BUI','DMC','Temperature']].mean().sort_values(by=['FFMC','ISI','FWI','BUI','DMC','Temperature'],ascending=False).reset_index()"
   ]
  },
  {
   "cell_type": "code",
   "execution_count": 249,
   "id": "f5c9e7ae",
   "metadata": {},
   "outputs": [
    {
     "data": {
      "text/html": [
       "<div>\n",
       "<style scoped>\n",
       "    .dataframe tbody tr th:only-of-type {\n",
       "        vertical-align: middle;\n",
       "    }\n",
       "\n",
       "    .dataframe tbody tr th {\n",
       "        vertical-align: top;\n",
       "    }\n",
       "\n",
       "    .dataframe thead th {\n",
       "        text-align: right;\n",
       "    }\n",
       "</style>\n",
       "<table border=\"1\" class=\"dataframe\">\n",
       "  <thead>\n",
       "    <tr style=\"text-align: right;\">\n",
       "      <th></th>\n",
       "      <th>month</th>\n",
       "      <th>FFMC</th>\n",
       "      <th>ISI</th>\n",
       "      <th>FWI</th>\n",
       "      <th>BUI</th>\n",
       "      <th>DMC</th>\n",
       "      <th>Temperature</th>\n",
       "    </tr>\n",
       "  </thead>\n",
       "  <tbody>\n",
       "    <tr>\n",
       "      <th>0</th>\n",
       "      <td>8</td>\n",
       "      <td>86.175806</td>\n",
       "      <td>7.703226</td>\n",
       "      <td>13.161290</td>\n",
       "      <td>29.420968</td>\n",
       "      <td>25.450000</td>\n",
       "      <td>35.338710</td>\n",
       "    </tr>\n",
       "    <tr>\n",
       "      <th>1</th>\n",
       "      <td>7</td>\n",
       "      <td>81.145902</td>\n",
       "      <td>4.814754</td>\n",
       "      <td>7.021311</td>\n",
       "      <td>16.980328</td>\n",
       "      <td>15.277049</td>\n",
       "      <td>32.983607</td>\n",
       "    </tr>\n",
       "    <tr>\n",
       "      <th>2</th>\n",
       "      <td>6</td>\n",
       "      <td>72.366667</td>\n",
       "      <td>3.265000</td>\n",
       "      <td>4.013333</td>\n",
       "      <td>10.295000</td>\n",
       "      <td>9.305000</td>\n",
       "      <td>30.800000</td>\n",
       "    </tr>\n",
       "    <tr>\n",
       "      <th>3</th>\n",
       "      <td>9</td>\n",
       "      <td>71.348333</td>\n",
       "      <td>3.086667</td>\n",
       "      <td>3.741667</td>\n",
       "      <td>9.636667</td>\n",
       "      <td>8.321667</td>\n",
       "      <td>29.366667</td>\n",
       "    </tr>\n",
       "  </tbody>\n",
       "</table>\n",
       "</div>"
      ],
      "text/plain": [
       "   month       FFMC       ISI        FWI        BUI        DMC  Temperature\n",
       "0      8  86.175806  7.703226  13.161290  29.420968  25.450000    35.338710\n",
       "1      7  81.145902  4.814754   7.021311  16.980328  15.277049    32.983607\n",
       "2      6  72.366667  3.265000   4.013333  10.295000   9.305000    30.800000\n",
       "3      9  71.348333  3.086667   3.741667   9.636667   8.321667    29.366667"
      ]
     },
     "execution_count": 249,
     "metadata": {},
     "output_type": "execute_result"
    }
   ],
   "source": [
    "df_grouped"
   ]
  },
  {
   "cell_type": "markdown",
   "id": "89e17692",
   "metadata": {},
   "source": [
    "<p>In my analysis, I have explored the relationship between various weather-related features and fire occurrences, focusing on how these variables change throughout the year. One of the key observations from the dataset was the monthly variation in the Fire Weather Index (FWI), Fine Fuel Moisture Code (FFMC), and other related variables.</p>\n",
    "\n",
    "<p>To delve deeper into this, I plotted the average values of the following key weather variables for each month:</p>\n",
    "<ul>\n",
    "    <li><b>FFMC (Fine Fuel Moisture Code)</b></li>\n",
    "    <li><b>ISI (Initial Spread Index)</b></li>\n",
    "    <li><b>FWI (Fire Weather Index)</b></li>\n",
    "    <li><b>BUI (Buildup Index)</b></li>\n",
    "    <li><b>DMC (Duff Moisture Code)</b></li>\n",
    "    <li><b>Temperature</b></li>\n",
    "</ul>\n",
    "\n",
    "<p>The bar plot below visualizes these monthly averages, which helped me understand how the weather variables behave during different months and their potential influence on fire occurrences. Based on the analysis of the data, the following trends were observed:</p>\n",
    "<ul>\n",
    "    <li><b>August:</b> This month exhibits the highest average values for FWI, FFMC, and Temperature, indicating a peak period for fire risk.</li>\n",
    "    <li><b>July:</b> Similar to August, July also shows high FWI and FFMC values, which could suggest an elevated fire risk during this period.</li>\n",
    "    <li><b>June:</b> June records relatively lower FWI and FFMC values, potentially indicating reduced fire risk compared to the summer months.</li>\n",
    "    <li><b>September:</b> In contrast, September shows a decrease in the key fire-related variables, which may be associated with a decline in fire occurrences as the year progresses.</li>\n",
    "</ul>\n",
    "\n",
    "<p>These insights align with the general understanding that fire risks are higher in the warmer months when moisture levels in fuel are lower, contributing to more favorable conditions for fire spread. The trends observed in this analysis also complement my earlier findings from the correlation matrix, which highlighted the strong relationship between FWI, FFMC, ISI, and fire occurrences (labeled as 'fire' in the dataset).</p>\n",
    "\n",
    "<p>In conclusion, the analysis of weather patterns and their relationship to fire occurrences through this bar plot provides a more comprehensive understanding of how environmental conditions impact fire risks. This insight can aid in fire prevention and management strategies.</p>\n"
   ]
  },
  {
   "cell_type": "code",
   "execution_count": 250,
   "id": "41bedde1",
   "metadata": {},
   "outputs": [
    {
     "data": {
      "image/png": "[encoded data removed]",
      "text/plain": [
       "<Figure size 1008x576 with 1 Axes>"
      ]
     },
     "metadata": {},
     "output_type": "display_data"
    }
   ],
   "source": [
    "plt.figure(figsize=(14, 8))\n",
    "months = ['June', 'July', 'August', 'September']  \n",
    "bar_width = 0.1  \n",
    "index = np.arange(len(df_sorted['month'])) \n",
    "\n",
    "for i, col in enumerate(df_sorted.columns[1:]):\n",
    "    plt.bar(index + i * bar_width, df_sorted[col], width=bar_width, label=col)\n",
    "\n",
    "\n",
    "plt.xticks(index + bar_width * 3, months)  \n",
    "plt.xlabel(\"Month\", fontsize=12, fontweight='bold')\n",
    "plt.ylabel(\"Average Value\", fontsize=12, fontweight='bold')\n",
    "plt.title(\"Monthly Averages of Fire Weather Indices\", fontsize=14, fontweight='bold')\n",
    "plt.legend(loc=\"upper left\", bbox_to_anchor=(1, 1))\n",
    "\n",
    "\n",
    "plt.tight_layout()\n",
    "plt.show()\n"
   ]
  },
  {
   "cell_type": "code",
   "execution_count": 251,
   "id": "0b3ea5c2",
   "metadata": {},
   "outputs": [],
   "source": [
    "df_sorted_1=df.groupby('month')[['RH','Rain']].mean().sort_values(by='month',ascending=True).reset_index()"
   ]
  },
  {
   "cell_type": "code",
   "execution_count": 252,
   "id": "ef9c5cb1",
   "metadata": {},
   "outputs": [
    {
     "data": {
      "text/html": [
       "<div>\n",
       "<style scoped>\n",
       "    .dataframe tbody tr th:only-of-type {\n",
       "        vertical-align: middle;\n",
       "    }\n",
       "\n",
       "    .dataframe tbody tr th {\n",
       "        vertical-align: top;\n",
       "    }\n",
       "\n",
       "    .dataframe thead th {\n",
       "        text-align: right;\n",
       "    }\n",
       "</style>\n",
       "<table border=\"1\" class=\"dataframe\">\n",
       "  <thead>\n",
       "    <tr style=\"text-align: right;\">\n",
       "      <th></th>\n",
       "      <th>day</th>\n",
       "      <th>month</th>\n",
       "      <th>year</th>\n",
       "      <th>Temperature</th>\n",
       "      <th>RH</th>\n",
       "      <th>Ws</th>\n",
       "      <th>Rain</th>\n",
       "      <th>FFMC</th>\n",
       "      <th>DMC</th>\n",
       "      <th>DC</th>\n",
       "      <th>ISI</th>\n",
       "      <th>BUI</th>\n",
       "      <th>FWI</th>\n",
       "      <th>Classes</th>\n",
       "      <th>Region</th>\n",
       "    </tr>\n",
       "  </thead>\n",
       "  <tbody>\n",
       "    <tr>\n",
       "      <th>0</th>\n",
       "      <td>1</td>\n",
       "      <td>6</td>\n",
       "      <td>2012</td>\n",
       "      <td>29</td>\n",
       "      <td>57</td>\n",
       "      <td>18</td>\n",
       "      <td>0.0</td>\n",
       "      <td>65.7</td>\n",
       "      <td>3.4</td>\n",
       "      <td>7.6</td>\n",
       "      <td>1.3</td>\n",
       "      <td>3.4</td>\n",
       "      <td>0.5</td>\n",
       "      <td>0</td>\n",
       "      <td>0</td>\n",
       "    </tr>\n",
       "    <tr>\n",
       "      <th>1</th>\n",
       "      <td>2</td>\n",
       "      <td>6</td>\n",
       "      <td>2012</td>\n",
       "      <td>29</td>\n",
       "      <td>61</td>\n",
       "      <td>13</td>\n",
       "      <td>1.3</td>\n",
       "      <td>64.4</td>\n",
       "      <td>4.1</td>\n",
       "      <td>7.6</td>\n",
       "      <td>1.0</td>\n",
       "      <td>3.9</td>\n",
       "      <td>0.4</td>\n",
       "      <td>0</td>\n",
       "      <td>0</td>\n",
       "    </tr>\n",
       "    <tr>\n",
       "      <th>2</th>\n",
       "      <td>3</td>\n",
       "      <td>6</td>\n",
       "      <td>2012</td>\n",
       "      <td>26</td>\n",
       "      <td>82</td>\n",
       "      <td>22</td>\n",
       "      <td>13.1</td>\n",
       "      <td>47.1</td>\n",
       "      <td>2.5</td>\n",
       "      <td>7.1</td>\n",
       "      <td>0.3</td>\n",
       "      <td>2.7</td>\n",
       "      <td>0.1</td>\n",
       "      <td>0</td>\n",
       "      <td>0</td>\n",
       "    </tr>\n",
       "    <tr>\n",
       "      <th>3</th>\n",
       "      <td>4</td>\n",
       "      <td>6</td>\n",
       "      <td>2012</td>\n",
       "      <td>25</td>\n",
       "      <td>89</td>\n",
       "      <td>13</td>\n",
       "      <td>2.5</td>\n",
       "      <td>28.6</td>\n",
       "      <td>1.3</td>\n",
       "      <td>6.9</td>\n",
       "      <td>0.0</td>\n",
       "      <td>1.7</td>\n",
       "      <td>0.0</td>\n",
       "      <td>0</td>\n",
       "      <td>0</td>\n",
       "    </tr>\n",
       "    <tr>\n",
       "      <th>4</th>\n",
       "      <td>5</td>\n",
       "      <td>6</td>\n",
       "      <td>2012</td>\n",
       "      <td>27</td>\n",
       "      <td>77</td>\n",
       "      <td>16</td>\n",
       "      <td>0.0</td>\n",
       "      <td>64.8</td>\n",
       "      <td>3.0</td>\n",
       "      <td>14.2</td>\n",
       "      <td>1.2</td>\n",
       "      <td>3.9</td>\n",
       "      <td>0.5</td>\n",
       "      <td>0</td>\n",
       "      <td>0</td>\n",
       "    </tr>\n",
       "    <tr>\n",
       "      <th>...</th>\n",
       "      <td>...</td>\n",
       "      <td>...</td>\n",
       "      <td>...</td>\n",
       "      <td>...</td>\n",
       "      <td>...</td>\n",
       "      <td>...</td>\n",
       "      <td>...</td>\n",
       "      <td>...</td>\n",
       "      <td>...</td>\n",
       "      <td>...</td>\n",
       "      <td>...</td>\n",
       "      <td>...</td>\n",
       "      <td>...</td>\n",
       "      <td>...</td>\n",
       "      <td>...</td>\n",
       "    </tr>\n",
       "    <tr>\n",
       "      <th>238</th>\n",
       "      <td>26</td>\n",
       "      <td>9</td>\n",
       "      <td>2012</td>\n",
       "      <td>30</td>\n",
       "      <td>65</td>\n",
       "      <td>14</td>\n",
       "      <td>0.0</td>\n",
       "      <td>85.4</td>\n",
       "      <td>16.0</td>\n",
       "      <td>44.5</td>\n",
       "      <td>4.5</td>\n",
       "      <td>16.9</td>\n",
       "      <td>6.5</td>\n",
       "      <td>1</td>\n",
       "      <td>1</td>\n",
       "    </tr>\n",
       "    <tr>\n",
       "      <th>239</th>\n",
       "      <td>27</td>\n",
       "      <td>9</td>\n",
       "      <td>2012</td>\n",
       "      <td>28</td>\n",
       "      <td>87</td>\n",
       "      <td>15</td>\n",
       "      <td>4.4</td>\n",
       "      <td>41.1</td>\n",
       "      <td>6.5</td>\n",
       "      <td>8.0</td>\n",
       "      <td>0.1</td>\n",
       "      <td>6.2</td>\n",
       "      <td>0.0</td>\n",
       "      <td>0</td>\n",
       "      <td>1</td>\n",
       "    </tr>\n",
       "    <tr>\n",
       "      <th>240</th>\n",
       "      <td>28</td>\n",
       "      <td>9</td>\n",
       "      <td>2012</td>\n",
       "      <td>27</td>\n",
       "      <td>87</td>\n",
       "      <td>29</td>\n",
       "      <td>0.5</td>\n",
       "      <td>45.9</td>\n",
       "      <td>3.5</td>\n",
       "      <td>7.9</td>\n",
       "      <td>0.4</td>\n",
       "      <td>3.4</td>\n",
       "      <td>0.2</td>\n",
       "      <td>0</td>\n",
       "      <td>1</td>\n",
       "    </tr>\n",
       "    <tr>\n",
       "      <th>241</th>\n",
       "      <td>29</td>\n",
       "      <td>9</td>\n",
       "      <td>2012</td>\n",
       "      <td>24</td>\n",
       "      <td>54</td>\n",
       "      <td>18</td>\n",
       "      <td>0.1</td>\n",
       "      <td>79.7</td>\n",
       "      <td>4.3</td>\n",
       "      <td>15.2</td>\n",
       "      <td>1.7</td>\n",
       "      <td>5.1</td>\n",
       "      <td>0.7</td>\n",
       "      <td>0</td>\n",
       "      <td>1</td>\n",
       "    </tr>\n",
       "    <tr>\n",
       "      <th>242</th>\n",
       "      <td>30</td>\n",
       "      <td>9</td>\n",
       "      <td>2012</td>\n",
       "      <td>24</td>\n",
       "      <td>64</td>\n",
       "      <td>15</td>\n",
       "      <td>0.2</td>\n",
       "      <td>67.3</td>\n",
       "      <td>3.8</td>\n",
       "      <td>16.5</td>\n",
       "      <td>1.2</td>\n",
       "      <td>4.8</td>\n",
       "      <td>0.5</td>\n",
       "      <td>0</td>\n",
       "      <td>1</td>\n",
       "    </tr>\n",
       "  </tbody>\n",
       "</table>\n",
       "<p>243 rows × 15 columns</p>\n",
       "</div>"
      ],
      "text/plain": [
       "     day  month  year  Temperature  RH  Ws  Rain  FFMC   DMC    DC  ISI   BUI  \\\n",
       "0      1      6  2012           29  57  18   0.0  65.7   3.4   7.6  1.3   3.4   \n",
       "1      2      6  2012           29  61  13   1.3  64.4   4.1   7.6  1.0   3.9   \n",
       "2      3      6  2012           26  82  22  13.1  47.1   2.5   7.1  0.3   2.7   \n",
       "3      4      6  2012           25  89  13   2.5  28.6   1.3   6.9  0.0   1.7   \n",
       "4      5      6  2012           27  77  16   0.0  64.8   3.0  14.2  1.2   3.9   \n",
       "..   ...    ...   ...          ...  ..  ..   ...   ...   ...   ...  ...   ...   \n",
       "238   26      9  2012           30  65  14   0.0  85.4  16.0  44.5  4.5  16.9   \n",
       "239   27      9  2012           28  87  15   4.4  41.1   6.5   8.0  0.1   6.2   \n",
       "240   28      9  2012           27  87  29   0.5  45.9   3.5   7.9  0.4   3.4   \n",
       "241   29      9  2012           24  54  18   0.1  79.7   4.3  15.2  1.7   5.1   \n",
       "242   30      9  2012           24  64  15   0.2  67.3   3.8  16.5  1.2   4.8   \n",
       "\n",
       "     FWI  Classes  Region  \n",
       "0    0.5        0       0  \n",
       "1    0.4        0       0  \n",
       "2    0.1        0       0  \n",
       "3    0.0        0       0  \n",
       "4    0.5        0       0  \n",
       "..   ...      ...     ...  \n",
       "238  6.5        1       1  \n",
       "239  0.0        0       1  \n",
       "240  0.2        0       1  \n",
       "241  0.7        0       1  \n",
       "242  0.5        0       1  \n",
       "\n",
       "[243 rows x 15 columns]"
      ]
     },
     "execution_count": 252,
     "metadata": {},
     "output_type": "execute_result"
    }
   ],
   "source": [
    "df"
   ]
  },
  {
   "cell_type": "code",
   "execution_count": 316,
   "id": "f4dd0c07",
   "metadata": {},
   "outputs": [
    {
     "data": {
      "text/html": [
       "<div>\n",
       "<style scoped>\n",
       "    .dataframe tbody tr th:only-of-type {\n",
       "        vertical-align: middle;\n",
       "    }\n",
       "\n",
       "    .dataframe tbody tr th {\n",
       "        vertical-align: top;\n",
       "    }\n",
       "\n",
       "    .dataframe thead th {\n",
       "        text-align: right;\n",
       "    }\n",
       "</style>\n",
       "<table border=\"1\" class=\"dataframe\">\n",
       "  <thead>\n",
       "    <tr style=\"text-align: right;\">\n",
       "      <th></th>\n",
       "      <th>month</th>\n",
       "      <th>RH</th>\n",
       "      <th>Rain</th>\n",
       "    </tr>\n",
       "  </thead>\n",
       "  <tbody>\n",
       "    <tr>\n",
       "      <th>0</th>\n",
       "      <td>6</td>\n",
       "      <td>65.283333</td>\n",
       "      <td>19.500000</td>\n",
       "    </tr>\n",
       "    <tr>\n",
       "      <th>1</th>\n",
       "      <td>7</td>\n",
       "      <td>62.704918</td>\n",
       "      <td>9.114754</td>\n",
       "    </tr>\n",
       "    <tr>\n",
       "      <th>2</th>\n",
       "      <td>8</td>\n",
       "      <td>53.983871</td>\n",
       "      <td>8.967742</td>\n",
       "    </tr>\n",
       "    <tr>\n",
       "      <th>3</th>\n",
       "      <td>9</td>\n",
       "      <td>66.450000</td>\n",
       "      <td>23.766667</td>\n",
       "    </tr>\n",
       "  </tbody>\n",
       "</table>\n",
       "</div>"
      ],
      "text/plain": [
       "   month         RH       Rain\n",
       "0      6  65.283333  19.500000\n",
       "1      7  62.704918   9.114754\n",
       "2      8  53.983871   8.967742\n",
       "3      9  66.450000  23.766667"
      ]
     },
     "execution_count": 316,
     "metadata": {},
     "output_type": "execute_result"
    }
   ],
   "source": [
    "df_sorted_1"
   ]
  },
  {
   "cell_type": "markdown",
   "id": "c3bcdc15",
   "metadata": {},
   "source": [
    "<p>In this part of the analysis, I examined the relationship between Relative Humidity (RH) and Rain across different months, which are critical factors influencing fire risk. I plotted the data for both variables to visualize their trends over the months.</p>\n",
    "\n",
    "<ul>\n",
    "    <li><b>Relative Humidity (RH):</b> RH values tend to be lower in the warmer months (June to August) and higher in the cooler months (September). This indicates that during the summer, the air is drier, which contributes to an increased fire risk. In contrast, higher RH values in September suggest a decrease in fire risk due to more moisture in the atmosphere.</li>\n",
    "    <li><b>Rain:</b> Rain follows a similar seasonal pattern, with more rain in September compared to the summer months. The increased rainfall during the cooler months helps suppress fires, making September a less risky month for fire occurrences.</li>\n",
    "</ul>\n",
    "\n",
    "<p>From this analysis, it is evident that the drier, hotter months (June to August) are associated with lower RH and less rain, both of which increase the likelihood of fire. On the other hand, the cooler, wetter month of September sees higher RH and more rainfall, which reduces fire risk.</p>\n",
    "\n",
    "<p>Overall, this seasonal variation in RH and Rain plays a significant role in understanding and predicting fire behavior. Lower RH and reduced rainfall during the summer months align with higher fire occurrences, while the opposite holds true for the wetter months of fall.</p>\n"
   ]
  },
  {
   "cell_type": "code",
   "execution_count": 253,
   "id": "2bce4f3c",
   "metadata": {},
   "outputs": [
    {
     "data": {
      "image/png": "[encoded data removed]",
      "text/plain": [
       "<Figure size 1008x432 with 1 Axes>"
      ]
     },
     "metadata": {},
     "output_type": "display_data"
    }
   ],
   "source": [
    "plt.figure(figsize=(14,6))\n",
    "df_sorted_1['Rain']=df_sorted_1['Rain']*20\n",
    "for i,col in enumerate(df_sorted_1.columns[1:]):\n",
    "    bars=plt.bar(index+i*bar_width,df_sorted_1[col],width=bar_width,label=col)\n",
    "    for bar in bars:\n",
    "        yval = bar.get_height()  # Get the height of each bar (its value)\n",
    "        plt.text(bar.get_x() + bar.get_width() / 2, yval + 0.5,str(round(yval, 2)),ha='center', va='bottom', fontsize=10, fontweight='bold')\n",
    "plt.ylim(0,70)\n",
    "plt.xticks(index+bar_width,months)\n",
    "plt.xlabel(\"Month\", fontsize=12, fontweight='bold')\n",
    "plt.ylabel(\"Average Value\", fontsize=12, fontweight='bold')\n",
    "plt.title(\"Monthly Averages of Fire Weather Indices\", fontsize=14, fontweight='bold')\n",
    "plt.legend(loc=\"upper left\", bbox_to_anchor=(1, 1))\n",
    "plt.tight_layout()\n",
    "plt.show()\n"
   ]
  },
  {
   "cell_type": "markdown",
   "id": "719d9c20",
   "metadata": {},
   "source": [
    "<font size=\"6\"><b>Model Training</b></font>"
   ]
  },
  {
   "cell_type": "code",
   "execution_count": 280,
   "id": "7ec631a5",
   "metadata": {},
   "outputs": [],
   "source": [
    "X=df.drop(columns='FWI')\n",
    "y=df['FWI']"
   ]
  },
  {
   "cell_type": "code",
   "execution_count": 281,
   "id": "e15ce94e",
   "metadata": {},
   "outputs": [],
   "source": [
    "from sklearn.model_selection import train_test_split"
   ]
  },
  {
   "cell_type": "code",
   "execution_count": 282,
   "id": "3087074f",
   "metadata": {},
   "outputs": [],
   "source": [
    "X_train,X_test,y_train,y_test=train_test_split(X,y,test_size=0.2,random_state=42)"
   ]
  },
  {
   "cell_type": "code",
   "execution_count": 283,
   "id": "c590df12",
   "metadata": {},
   "outputs": [],
   "source": [
    "from sklearn.linear_model import LinearRegression"
   ]
  },
  {
   "cell_type": "code",
   "execution_count": 284,
   "id": "75054003",
   "metadata": {},
   "outputs": [],
   "source": [
    "lr=LinearRegression()"
   ]
  },
  {
   "cell_type": "code",
   "execution_count": 285,
   "id": "036cd0b2",
   "metadata": {},
   "outputs": [
    {
     "data": {
      "text/plain": [
       "LinearRegression()"
      ]
     },
     "execution_count": 285,
     "metadata": {},
     "output_type": "execute_result"
    }
   ],
   "source": [
    "lr.fit(X_train,y_train)"
   ]
  },
  {
   "cell_type": "code",
   "execution_count": 286,
   "id": "ae6506ca",
   "metadata": {},
   "outputs": [
    {
     "data": {
      "text/plain": [
       "(array([ 1.13025912e-02,  4.12601458e-02, -5.55111512e-17, -1.02993503e-02,\n",
       "        -1.36237565e-02, -2.81314069e-02, -3.12826292e-03, -6.40314568e-02,\n",
       "         6.39929806e-02, -6.36644403e-03,  1.17473645e+00,  2.11815203e-01,\n",
       "         6.18273833e-01, -3.70826147e-01]),\n",
       " 3.255303814287341)"
      ]
     },
     "execution_count": 286,
     "metadata": {},
     "output_type": "execute_result"
    }
   ],
   "source": [
    "lr.coef_, lr.intercept_"
   ]
  },
  {
   "cell_type": "code",
   "execution_count": 287,
   "id": "d4251ab4",
   "metadata": {},
   "outputs": [],
   "source": [
    "y_pred=lr.predict(X_test)"
   ]
  },
  {
   "cell_type": "code",
   "execution_count": 313,
   "id": "734eddde",
   "metadata": {},
   "outputs": [
    {
     "data": {
      "text/plain": [
       "<matplotlib.collections.PathCollection at 0x27d6eaace80>"
      ]
     },
     "execution_count": 313,
     "metadata": {},
     "output_type": "execute_result"
    },
    {
     "data": {
      "image/png": "[encoded data removed]",
      "text/plain": [
       "<Figure size 432x288 with 1 Axes>"
      ]
     },
     "metadata": {},
     "output_type": "display_data"
    }
   ],
   "source": [
    "plt.scatter(y_pred,y_test)"
   ]
  },
  {
   "cell_type": "code",
   "execution_count": 290,
   "id": "fc86da79",
   "metadata": {},
   "outputs": [],
   "source": [
    "from sklearn.metrics import r2_score, mean_squared_error,mean_absolute_error"
   ]
  },
  {
   "cell_type": "code",
   "execution_count": 295,
   "id": "9d2f080a",
   "metadata": {},
   "outputs": [],
   "source": [
    "lr_mse=mean_squared_error(y_test,y_pred)\n",
    "lr_rmse=np.sqrt(lr_mse)\n",
    "lr_r2=r2_score(y_test,y_pred)"
   ]
  },
  {
   "cell_type": "code",
   "execution_count": 294,
   "id": "2dff3872",
   "metadata": {},
   "outputs": [
    {
     "data": {
      "text/plain": [
       "0.5808963319311945"
      ]
     },
     "execution_count": 294,
     "metadata": {},
     "output_type": "execute_result"
    }
   ],
   "source": [
    "lr_rmse"
   ]
  },
  {
   "cell_type": "code",
   "execution_count": 296,
   "id": "55872d3c",
   "metadata": {},
   "outputs": [
    {
     "data": {
      "text/plain": [
       "0.9888664426634421"
      ]
     },
     "execution_count": 296,
     "metadata": {},
     "output_type": "execute_result"
    }
   ],
   "source": [
    "lr_r2"
   ]
  },
  {
   "cell_type": "markdown",
   "id": "d9f3c378",
   "metadata": {},
   "source": [
    "<h3>Model Evaluation Results</h3>\n",
    "\n",
    "<p>Based on the results of my Linear Regression model, I obtained the following evaluation metrics:</p>\n",
    "\n",
    "<ul>\n",
    "  <li><strong>R² Score:</strong> 0.9889</li>\n",
    "  <li><strong>RMSE (Root Mean Squared Error):</strong> 0.5809</li>\n",
    "</ul>\n",
    "\n",
    "<h4>Interpretation:</h4>\n",
    "\n",
    "<p><strong>R² Score (0.9889):</strong> This indicates that approximately <strong>98.89%</strong> of the variance in the dependent variable (Fire Weather Index or FWI) is explained by my model. A value this high suggests that my model fits the data very well and is able to explain almost all of the variability in the dataset.</p>\n",
    "\n",
    "<p><strong>RMSE (0.5809):</strong> This value shows the average magnitude of the error between the predicted and actual values. Since the RMSE is relatively low, the predictions are close to the actual values. However, it’s important to consider the scale of FWI to assess whether this error is significant in the context of my analysis.</p>\n",
    "\n",
    "<h4>Conclusion:</h4>\n",
    "\n",
    "<p>The high R² score suggests that my model is performing very well in explaining the data. Additionally, the low RMSE indicates that the model's predictions are fairly accurate. These results support the idea that my Linear Regression model is effective for this dataset.</p>\n",
    "\n",
    "<p>In the next steps, I could compare these results with other models (e.g., Ridge, Lasso) and also assess the performance across different datasets, such as through cross-validation, to further validate the model's effectiveness.</p>\n"
   ]
  },
  {
   "cell_type": "markdown",
   "id": "f88f9751",
   "metadata": {},
   "source": [
    "<font size=\"4\">The model may be overfitting</font>"
   ]
  },
  {
   "cell_type": "code",
   "execution_count": 299,
   "id": "132ac676",
   "metadata": {},
   "outputs": [
    {
     "name": "stdout",
     "output_type": "stream",
     "text": [
      "R-squared on Training Set: 0.9738816393193798\n",
      "R-squared on Test Set: 0.9888664426634421\n"
     ]
    }
   ],
   "source": [
    "y_train_pred = lr.predict(X_train)\n",
    "y_test_pred = lr.predict(X_test)\n",
    "\n",
    "# Evaluate performance\n",
    "train_r2 = r2_score(y_train, y_train_pred)\n",
    "test_r2 = r2_score(y_test, y_test_pred)\n",
    "print(f\"R-squared on Training Set: {train_r2}\")\n",
    "print(f\"R-squared on Test Set: {test_r2}\")"
   ]
  },
  {
   "cell_type": "markdown",
   "id": "4fdc1bf1",
   "metadata": {},
   "source": [
    "<h3>Evaluation of R² Scores Before Cross-Validation</h3>\n",
    "\n",
    "<p>Before performing cross-validation, I first evaluated the performance of my model by calculating the <strong>R-squared (R²)</strong> scores for both the <strong>training set</strong> and the <strong>test set</strong>. The R² scores are a key metric to assess how well my model is fitting the data and how much of the variance in the target variable is explained by the model.</p>\n",
    "\n",
    "<h4>R² Scores on Training and Test Sets:</h4>\n",
    "<ul>\n",
    "  <li><strong>R-squared on Training Set:</strong> <strong>0.9739</strong></li>\n",
    "  <li><strong>R-squared on Test Set:</strong> <strong>0.9889</strong></li>\n",
    "</ul>\n",
    "\n",
    "<p>These R² values indicate that the model is performing exceptionally well:</p>\n",
    "<ul>\n",
    "  <li>The high R² score of <strong>0.9739</strong> on the training set suggests that the model is explaining about <strong>97.39%</strong> of the variance in the target variable for the training data.</li>\n",
    "  <li>The slightly higher R² score of <strong>0.9889</strong> on the test set indicates that the model generalizes well to new, unseen data, explaining about <strong>98.89%</strong> of the variance in the target variable for the test data.</li>\n",
    "</ul>\n",
    "\n",
    "<h4>Why These Results Matter:</h4>\n",
    "<ul>\n",
    "  <li><strong>High R² on Both Training and Test Sets:</strong> These high R² values suggest that the model is not overfitting the training data and is capable of making accurate predictions on new data. The test set R² being higher than the training set R² might indicate that the model is robust and generalizes well.</li>\n",
    "  <li><strong>Indication of Model Strength:</strong> The strong performance on both the training and test sets points to the model’s ability to capture the underlying patterns in the data. This gives confidence that the model could perform well in real-world scenarios with similar data.</li>\n",
    "</ul>\n",
    "\n",
    "<h4>Conclusion:</h4>\n",
    "\n",
    "<p>The R² scores on the training and test sets indicate that the model is performing well, explaining a significant portion of the variance in the target variable. However, even with these promising results, I decided to proceed with cross-validation to ensure that the model’s performance is consistent and generalizable across different subsets of the data.</p>\n"
   ]
  },
  {
   "cell_type": "code",
   "execution_count": 301,
   "id": "c83ba81c",
   "metadata": {},
   "outputs": [
    {
     "name": "stdout",
     "output_type": "stream",
     "text": [
      "Cross-validation MSE scores: [0.19398242 1.84479784 0.55595575 7.72274559 2.5305901 ]\n",
      "Mean MSE from cross-validation: 2.5696143397209634\n"
     ]
    }
   ],
   "source": [
    "from sklearn.model_selection import cross_val_score\n",
    "cv_scores = cross_val_score(lr, X, y, cv=5, scoring='neg_mean_squared_error')\n",
    "print(\"Cross-validation MSE scores:\", -cv_scores)  \n",
    "print(\"Mean MSE from cross-validation:\", -cv_scores.mean())"
   ]
  },
  {
   "cell_type": "markdown",
   "id": "f08e4d56",
   "metadata": {},
   "source": [
    "<h3>Cross-Validation Results</h3>\n",
    "\n",
    "<p>In addition to evaluating the model's performance on the training and test sets, I also performed <strong>cross-validation</strong> to assess the model's robustness and generalizability across different subsets of the dataset. Cross-validation helps in understanding how the model performs on various portions of the data and provides a more reliable estimate of its predictive performance.</p>\n",
    "\n",
    "<h4>Cross-Validation MSE Scores:</h4>\n",
    "<ul>\n",
    "  <li>Fold 1: <strong>0.19398</strong></li>\n",
    "  <li>Fold 2: <strong>1.84480</strong></li>\n",
    "  <li>Fold 3: <strong>0.55596</strong></li>\n",
    "  <li>Fold 4: <strong>7.72275</strong></li>\n",
    "  <li>Fold 5: <strong>2.53059</strong></li>\n",
    "</ul>\n",
    "\n",
    "<h4>Mean MSE from Cross-Validation:</h4>\n",
    "<ul>\n",
    "  <li><strong>Mean MSE: 2.5696</strong></li>\n",
    "</ul>\n",
    "\n",
    "<p>The individual Mean Squared Error (MSE) values from each fold show variability in the model's performance across different subsets of the data:</p>\n",
    "<ul>\n",
    "  <li>The first fold has a low MSE of <strong>0.194</strong>, indicating a very accurate prediction on that subset.</li>\n",
    "  <li>The second fold shows a higher MSE of <strong>1.845</strong>, suggesting a less accurate prediction.</li>\n",
    "  <li>The fourth fold has the highest MSE of <strong>7.723</strong>, which points to a significant prediction error on that fold.</li>\n",
    "  <li>However, the overall mean MSE of <strong>2.5696</strong> provides a more stable and generalizable estimate of the model’s average prediction error across all the folds.</li>\n",
    "</ul>\n",
    "\n",
    "<h4>Interpretation of Cross-Validation Results:</h4>\n",
    "<p>While the variability in MSE scores across the folds suggests that the model’s performance is not perfectly consistent, the mean MSE of <strong>2.5696</strong> still indicates that the model is performing reasonably well on average. The variation could be due to the different characteristics of each data subset, and this variability is expected in real-world data where not all data points behave in the same way.</p>\n",
    "\n",
    "<h4>Why Cross-Validation is Important:</h4>\n",
    "<ul>\n",
    "  <li><strong>Reliable Performance Estimate:</strong> Cross-validation provides a more reliable performance estimate by evaluating the model on multiple different subsets of the data. This helps to avoid overfitting or underfitting based on a single train-test split.</li>\n",
    "  <li><strong>Identifying Variability:</strong> By observing the different MSE values across the folds, I can identify if the model struggles with certain subsets of the data, allowing for targeted improvements.</li>\n",
    "  <li><strong>Generalizability:</strong> Cross-validation helps in assessing how well the model is likely to generalize to new, unseen data by simulating how it would perform on different data splits.</li>\n",
    "</ul>\n",
    "\n",
    "<h4>Conclusion:</h4>\n",
    "<p>The cross-validation results demonstrate that while the model’s performance varies slightly across different folds, the overall performance is reasonable, with a mean MSE of <strong>2.5696</strong>. This reinforces the model's potential for generalization, but I will need to address potential issues like high error in specific folds (such as fold 4) to further improve the model.</p>\n"
   ]
  },
  {
   "cell_type": "code",
   "execution_count": 302,
   "id": "ffd2aa3c",
   "metadata": {},
   "outputs": [
    {
     "name": "stdout",
     "output_type": "stream",
     "text": [
      "Best parameters for Ridge: {'alpha': 148.49682622544634}\n",
      "Best score for Ridge: 2.0357881456851237\n",
      "Best parameters for Lasso: {'alpha': 0.5590810182512223}\n",
      "Best score for Lasso: 2.0912957340981877\n"
     ]
    }
   ],
   "source": [
    "from sklearn.linear_model import Ridge, Lasso\n",
    "from sklearn.model_selection import GridSearchCV\n",
    "\n",
    "# Define the models and the hyperparameter grid\n",
    "ridge = Ridge()\n",
    "lasso = Lasso()\n",
    "\n",
    "# Define the hyperparameter grid\n",
    "param_grid = {\n",
    "    'alpha': np.logspace(-5, 5, 100)  # Alpha controls regularization strength\n",
    "}\n",
    "\n",
    "# Use GridSearchCV for Ridge\n",
    "ridge_search = GridSearchCV(ridge, param_grid, cv=5, scoring='neg_mean_squared_error')\n",
    "ridge_search.fit(X, y)\n",
    "\n",
    "# Use GridSearchCV for Lasso\n",
    "lasso_search = GridSearchCV(lasso, param_grid, cv=5, scoring='neg_mean_squared_error')\n",
    "lasso_search.fit(X, y)\n",
    "\n",
    "# Print the best parameters and score for both models\n",
    "print(\"Best parameters for Ridge:\", ridge_search.best_params_)\n",
    "print(\"Best score for Ridge:\", -ridge_search.best_score_)\n",
    "\n",
    "print(\"Best parameters for Lasso:\", lasso_search.best_params_)\n",
    "print(\"Best score for Lasso:\", -lasso_search.best_score_)"
   ]
  },
  {
   "cell_type": "markdown",
   "id": "1c53f3f9",
   "metadata": {},
   "source": [
    "<h3>Hyperparameter Tuning Results for Ridge and Lasso Regression</h3>\n",
    "\n",
    "<p>After performing hyperparameter tuning using <strong>GridSearchCV</strong>, I obtained the best <strong>alpha</strong> values for both Ridge and Lasso regression models, which control the strength of regularization. Regularization helps prevent overfitting by penalizing large coefficients in the model.</p>\n",
    "\n",
    "<h4>Ridge Regression Results:</h4>\n",
    "<ul>\n",
    "  <li><strong>Best Alpha:</strong> The best regularization strength for Ridge regression is <strong>148.50</strong>. This value was selected from a range of alpha values between 10<sup>-5</sup> and 10<sup>5</sup>, based on minimizing the mean squared error (MSE).</li>\n",
    "  <li><strong>Best Score:</strong> The best score, representing the lowest mean squared error (MSE) obtained during cross-validation, is <strong>2.04</strong>. This indicates the performance of the Ridge model with the optimal alpha value.</li>\n",
    "</ul>\n",
    "\n",
    "<h4>Lasso Regression Results:</h4>\n",
    "<ul>\n",
    "  <li><strong>Best Alpha:</strong> The best regularization strength for Lasso regression is <strong>0.56</strong>. This value was also chosen based on minimizing the mean squared error (MSE) during the cross-validation process.</li>\n",
    "  <li><strong>Best Score:</strong> The best score for Lasso regression is <strong>2.09</strong>, which is slightly higher than Ridge regression, indicating a slightly higher error in prediction.</li>\n",
    "</ul>\n",
    "\n",
    "<p><strong>Interpretation:</strong> Both models have been optimized to minimize the MSE, but the Ridge model achieved a slightly better performance with a lower MSE. The alpha value for Ridge is higher, suggesting stronger regularization, which might be helping in reducing overfitting. The Lasso model, with a smaller alpha, tends to produce sparse models by driving some coefficients to zero, but in this case, it shows a slightly higher error than Ridge.</p>\n",
    "\n",
    "<p>Overall, I will choose the model with the lower MSE for final predictions, which in this case is the Ridge model with an alpha of 148.50.</p>\n"
   ]
  },
  {
   "cell_type": "code",
   "execution_count": 309,
   "id": "ddfb22cc",
   "metadata": {},
   "outputs": [
    {
     "name": "stdout",
     "output_type": "stream",
     "text": [
      "   R-squared on Test Set  Mean Squared Error (MSE) on Test Set\n",
      "0               0.973455                              0.804552\n"
     ]
    }
   ],
   "source": [
    "# Importing libraries\n",
    "from sklearn.linear_model import Ridge\n",
    "from sklearn.metrics import mean_squared_error, r2_score\n",
    "\n",
    "# Best alpha value from Ridge regression after cross-validation\n",
    "best_alpha_ridge = 148.49682622544634\n",
    "\n",
    "# Training the Ridge regression model on the full training set\n",
    "ridge_model = Ridge(alpha=best_alpha_ridge)\n",
    "ridge_model.fit(X_train, y_train)\n",
    "\n",
    "# Predicting on the test set\n",
    "y_pred = ridge_model.predict(X_test)\n",
    "\n",
    "# Calculating R-squared and Mean Squared Error (MSE) for the test set\n",
    "r2_test = r2_score(y_test, y_pred)\n",
    "mse_test = mean_squared_error(y_test, y_pred)\n",
    "\n",
    "df_final=pd.DataFrame({'R-squared on Test Set':[r2_test],'Mean Squared Error (MSE) on Test Set':[mse_test]})\n",
    "print(df_final)"
   ]
  },
  {
   "cell_type": "code",
   "execution_count": 314,
   "id": "0dc496ed",
   "metadata": {},
   "outputs": [
    {
     "data": {
      "text/plain": [
       "<matplotlib.collections.PathCollection at 0x27d6eaf2ee0>"
      ]
     },
     "execution_count": 314,
     "metadata": {},
     "output_type": "execute_result"
    },
    {
     "data": {
      "image/png": "[encoded data removed]",
      "text/plain": [
       "<Figure size 432x288 with 1 Axes>"
      ]
     },
     "metadata": {},
     "output_type": "display_data"
    }
   ],
   "source": [
    "plt.scatter(y_test,y_pred)"
   ]
  },
  {
   "cell_type": "code",
   "execution_count": 311,
   "id": "c3790a50",
   "metadata": {},
   "outputs": [
    {
     "data": {
      "text/plain": [
       "31.1"
      ]
     },
     "execution_count": 311,
     "metadata": {},
     "output_type": "execute_result"
    }
   ],
   "source": [
    "df['FWI'].max()"
   ]
  },
  {
   "cell_type": "code",
   "execution_count": 312,
   "id": "4ae9bbde",
   "metadata": {},
   "outputs": [
    {
     "data": {
      "text/plain": [
       "0.00     0.00\n",
       "0.25     0.70\n",
       "0.50     4.20\n",
       "0.75    11.45\n",
       "1.00    31.10\n",
       "Name: FWI, dtype: float64"
      ]
     },
     "execution_count": 312,
     "metadata": {},
     "output_type": "execute_result"
    }
   ],
   "source": [
    "df['FWI'].quantile([0,0.25,0.5,0.75,1])"
   ]
  },
  {
   "cell_type": "markdown",
   "id": "f915334a",
   "metadata": {},
   "source": [
    "\n",
    "<h2>Conclusion:</h2>\n",
    "<p>Based on the evaluation of the model on the test set, we observe the following results:</p>\n",
    "\n",
    "<ul>\n",
    "    <li><strong>R-squared on Test Set:</strong> The R² value is 0.973, indicating that approximately 97.3% of the variance in the target variable (FWI) can be explained by the features in the model. This is a strong indicator of a good fit, suggesting that our model performs well in predicting the Fire Weather Index.</li>\n",
    "    <li><strong>Mean Squared Error (MSE) on Test Set:</strong> The MSE value of 0.804 reflects the average squared difference between the predicted and actual values. A lower MSE indicates a good model performance, as the predictions are closer to the true values.</li>\n",
    "</ul>\n",
    "\n",
    "<p>Additionally, the performance metrics indicate that the model, which uses <strong>Ridge Regression</strong>, is able to capture the underlying patterns in the dataset effectively. Ridge Regression was chosen due to its ability to prevent overfitting by applying L2 regularization, which is particularly useful in cases with multicollinearity or when the number of predictors is large relative to the number of observations.</p>\n",
    "\n",
    "\n"
   ]
  }
 ],
 "metadata": {
  "kernelspec": {
   "display_name": "Python 3 (ipykernel)",
   "language": "python",
   "name": "python3"
  },
  "language_info": {
   "codemirror_mode": {
    "name": "ipython",
    "version": 3
   },
   "file_extension": ".py",
   "mimetype": "text/x-python",
   "name": "python",
   "nbconvert_exporter": "python",
   "pygments_lexer": "ipython3",
   "version": "3.9.12"
  }
 },
 "nbformat": 4,
 "nbformat_minor": 5
}
